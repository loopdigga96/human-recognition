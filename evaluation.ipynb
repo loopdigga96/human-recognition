{
 "cells": [
  {
   "cell_type": "code",
   "execution_count": 1,
   "metadata": {
    "collapsed": false,
    "deletable": true,
    "editable": true
   },
   "outputs": [
    {
     "name": "stderr",
     "output_type": "stream",
     "text": [
      "Using Theano backend.\n"
     ]
    }
   ],
   "source": [
    "import pandas as pd\n",
    "%matplotlib inline\n",
    "from keras.models import load_model\n",
    "from keras import backend as K\n",
    "import numpy as np\n",
    "from sklearn.metrics import roc_curve, auc\n",
    "from os import listdir\n",
    "from shapely.geometry import LineString\n",
    "\n",
    "def f1(y_true, y_pred):\n",
    "    def recall(y_true, y_pred):\n",
    "        true_positives = K.sum(K.round(K.clip(y_true * y_pred, 0, 1)))\n",
    "        possible_positives = K.sum(K.round(K.clip(y_true, 0, 1)))\n",
    "        recall = true_positives / (possible_positives + K.epsilon())\n",
    "        return recall\n",
    "\n",
    "    def precision(y_true, y_pred):\n",
    "        true_positives = K.sum(K.round(K.clip(y_true * y_pred, 0, 1)))\n",
    "        predicted_positives = K.sum(K.round(K.clip(y_pred, 0, 1)))\n",
    "        precision = true_positives / (predicted_positives + K.epsilon())\n",
    "        return precision\n",
    "    precision = precision(y_true, y_pred)\n",
    "    recall = recall(y_true, y_pred)\n",
    "    return 2*((precision*recall)/(precision+recall))\n",
    "\n",
    "def recall(y_true, y_pred):\n",
    "    true_positives = K.sum(K.round(K.clip(y_true * y_pred, 0, 1)))\n",
    "    possible_positives = K.sum(K.round(K.clip(y_true, 0, 1)))\n",
    "    recall = true_positives / (possible_positives + K.epsilon())\n",
    "    return recall\n",
    "\n",
    "def precision(y_true, y_pred):\n",
    "    true_positives = K.sum(K.round(K.clip(y_true * y_pred, 0, 1)))\n",
    "    predicted_positives = K.sum(K.round(K.clip(y_pred, 0, 1)))\n",
    "    precision = true_positives / (predicted_positives + K.epsilon())\n",
    "    return precision\n",
    "\n",
    "def generate_batch(x_left, x_right, y, size):\n",
    "    while True:\n",
    "        for i in xrange(0, len(x_left), size):\n",
    "            x_left_b   = x_left[i:i+size]\n",
    "            x_right_b  = x_right[i:i+size]\n",
    "            y_b        = y[i:i+size]\n",
    "\n",
    "            x_left_b   = np.array([np.array(row) for row in x_left_b])\n",
    "            x_right_b  = np.array([np.array(row) for row in x_right_b])\n",
    "\n",
    "            yield ([x_left_b, x_right_b], y_b)\n",
    "\n",
    "def get_number_of_batches(dataset, b_size):\n",
    "    ds_len = len(dataset)\n",
    "    num_of_batches = int(round((1.0*len(test_df))/b_size))\n",
    "    \n",
    "    if ds_len % b_size:\n",
    "        num_of_batches+=1\n",
    "    \n",
    "    return num_of_batches\n"
   ]
  },
  {
   "cell_type": "code",
   "execution_count": 2,
   "metadata": {
    "collapsed": false,
    "deletable": true,
    "editable": true
   },
   "outputs": [],
   "source": [
    "def get_metrics(y_pred, y_test, num_of_targets):\n",
    "    # calculating fp_r, fa_r with different thresholds\n",
    "    ones = num_of_targets[1]\n",
    "    zeros = num_of_targets[0]\n",
    "    fp = 0\n",
    "    fa = 0\n",
    "    eer = 0\n",
    "    fp_r = []\n",
    "    fa_r = []\n",
    "    thresholds = np.linspace(0.0, 1.0, num=30)\n",
    "\n",
    "    y_pred_thresh = []\n",
    "\n",
    "    for t in thresholds:\n",
    "        for y in y_pred:\n",
    "            if y < t:\n",
    "                y_pred_thresh.append(0)\n",
    "            else:\n",
    "                y_pred_thresh.append(1)\n",
    "\n",
    "        for y in zip(y_pred_thresh, y_test):\n",
    "            if y[1] == 1 and y[0] == 0:\n",
    "                fp+=1\n",
    "            if y[1] == 0 and y[0] == 1:\n",
    "                fa+=1\n",
    "        fp_r.append(100*(fp*1.0)/ones)\n",
    "        fa_r.append(100*(fa*1.0)/zeros)\n",
    "        fp = 0\n",
    "        fa = 0\n",
    "        y_pred_thresh = []\n",
    "    \n",
    "    line1 = LineString(zip(thresholds, fp_r))\n",
    "    line2 = LineString(zip(thresholds, fa_r))\n",
    "    \n",
    "    eer = line1.intersection(line2).y\n",
    "    return {'fp_r': fp_r, 'fa_r': fa_r, 'thresholds': thresholds, 'eer': eer}\n",
    "    \n",
    "def get_eer(y_pred, y_test, num_of_targets):\n",
    "    return get_metrics(y_pred, y_test, num_of_targets)['eer']\n",
    "\n",
    "def get_model_list(path):\n",
    "    return sorted(listdir(path))\n",
    "\n",
    "def evaluate_all(model_path, test_path):\n",
    "    eers = []\n",
    "    model_name = []\n",
    "    test_df = pd.read_pickle(test_path)\n",
    "    ones = len(test_df[test_df.is_duplicate == 1])\n",
    "    zeros = len(test_df[test_df.is_duplicate == 0])\n",
    "    y_test       = test_df.is_duplicate.values\n",
    "\n",
    "    x_left_test  = test_df.vec1.values\n",
    "    x_right_test = test_df.vec2.values\n",
    "\n",
    "    batch_s = 200\n",
    "    batch_total = get_number_of_batches(test_df, batch_s)\n",
    "\n",
    "    for m in get_model_list(model_path):\n",
    "        current_model = load_model(path + '/' + m, custom_objects={'f1':f1, 'recall': recall, 'precision':precision})\n",
    "        y_pred = current_model.predict_generator(generate_batch(x_left_test, x_right_test, y_test, batch_s),\n",
    "                                                 batch_total, \n",
    "                                                 verbose=0)\n",
    "        y_pred = np.reshape(y_pred, (y_pred.shape[0],))\n",
    "        eers.append(get_eer(y_pred, y_test, [zeros, ones]))\n",
    "        model_name.append(m)\n",
    "    \n",
    "    return pd.DataFrame({'eer':eers, 'model': model_name})"
   ]
  },
  {
   "cell_type": "code",
   "execution_count": 6,
   "metadata": {
    "collapsed": true,
    "deletable": true,
    "editable": true
   },
   "outputs": [],
   "source": [
    "history = pd.read_pickle('history/mlp1_b100_bn_euc_dist.h5')\n",
    "model = load_model('models/best_model.h5', custom_objects={'f1':f1, 'recall': recall, 'precision':precision})"
   ]
  },
  {
   "cell_type": "code",
   "execution_count": 7,
   "metadata": {
    "collapsed": false,
    "deletable": true,
    "editable": true
   },
   "outputs": [
    {
     "name": "stderr",
     "output_type": "stream",
     "text": [
      "/home/loopdigga/Documents/ml/ml_env/local/lib/python2.7/site-packages/matplotlib/axes/_base.py:2903: UserWarning: Attempting to set identical left==right results\n",
      "in singular transformations; automatically expanding.\n",
      "left=1.0, right=1.0\n",
      "  'left=%s, right=%s') % (left, right))\n"
     ]
    },
    {
     "data": {
      "text/plain": [
       "<matplotlib.axes._subplots.AxesSubplot at 0x7f7a37f4fa10>"
      ]
     },
     "execution_count": 7,
     "metadata": {},
     "output_type": "execute_result"
    },
    {
     "data": {
      "image/png": "[encoded data removed]",
      "text/plain": [
       "<matplotlib.figure.Figure at 0x7f7a32f1e090>"
      ]
     },
     "metadata": {},
     "output_type": "display_data"
    }
   ],
   "source": [
    "history.plot(y=['train_loss', 'valid_loss'], x='epoch')"
   ]
  },
  {
   "cell_type": "code",
   "execution_count": 9,
   "metadata": {
    "collapsed": false,
    "deletable": true,
    "editable": true
   },
   "outputs": [],
   "source": [
    "test_df = pd.read_pickle('dataset/test/test.h5')\n",
    "ones = len(test_df[test_df.is_duplicate == 1])\n",
    "zeros = len(test_df[test_df.is_duplicate == 0])\n",
    "y_test       = test_df.is_duplicate.values\n",
    "\n",
    "x_left_test  = test_df.vec1.values\n",
    "x_right_test = test_df.vec2.values"
   ]
  },
  {
   "cell_type": "code",
   "execution_count": 11,
   "metadata": {
    "collapsed": true,
    "deletable": true,
    "editable": true
   },
   "outputs": [],
   "source": [
    "def generate_batch(x_left, x_right, y, size):\n",
    "    while True:\n",
    "        for i in xrange(0, len(x_left), size):\n",
    "            x_left_b   = x_left[i:i+size]\n",
    "            x_right_b  = x_right[i:i+size]\n",
    "            y_b        = y[i:i+size]\n",
    "\n",
    "            x_left_b   = np.array([np.array(row) for row in x_left_b])\n",
    "            x_right_b  = np.array([np.array(row) for row in x_right_b])\n",
    "\n",
    "            yield ([x_left_b, x_right_b], y_b)\n",
    "\n",
    "def get_number_of_batches(dataset, b_size):\n",
    "    ds_len = len(dataset)\n",
    "    num_of_batches = int(round((1.0*len(test_df))/b_size))\n",
    "    \n",
    "    if ds_len % b_size:\n",
    "        num_of_batches+=1\n",
    "    \n",
    "    return num_of_batches"
   ]
  },
  {
   "cell_type": "code",
   "execution_count": 12,
   "metadata": {
    "collapsed": false,
    "deletable": true,
    "editable": true
   },
   "outputs": [],
   "source": [
    "batch_s = 200\n",
    "batch_total = get_number_of_batches(test_df, batch_s)\n",
    "\n",
    "\n",
    "y_pred = model.predict_generator(generate_batch(x_left_test, x_right_test, y_test, batch_s),\n",
    "                                 batch_total, \n",
    "                                 verbose=0)"
   ]
  },
  {
   "cell_type": "code",
   "execution_count": 13,
   "metadata": {
    "collapsed": true,
    "deletable": true,
    "editable": true
   },
   "outputs": [],
   "source": [
    "pred_name='mlp1_b100_bn_euc_dist.h5'"
   ]
  },
  {
   "cell_type": "code",
   "execution_count": 14,
   "metadata": {
    "collapsed": false,
    "deletable": true,
    "editable": true
   },
   "outputs": [],
   "source": [
    "np.save('predictions/{}'.format(pred_name), y_pred)"
   ]
  },
  {
   "cell_type": "code",
   "execution_count": 15,
   "metadata": {
    "collapsed": false,
    "deletable": true,
    "editable": true
   },
   "outputs": [],
   "source": [
    "y_pred = np.load('predictions/{}.npy'.format(pred_name))\n",
    "y_pred = np.reshape(y_pred, (y_pred.shape[0],))"
   ]
  },
  {
   "cell_type": "code",
   "execution_count": 16,
   "metadata": {
    "collapsed": false,
    "deletable": true,
    "editable": true
   },
   "outputs": [],
   "source": [
    "# calculating fp_r, fa_r with different thresholds\n",
    "fp = 0\n",
    "fa = 0\n",
    "eer = 0\n",
    "fp_r = []\n",
    "fa_r = []\n",
    "thresholds = np.linspace(0.0, 1.0, num=30)\n",
    "\n",
    "y_pred_thresh = []\n",
    "\n",
    "for t in thresholds:\n",
    "    for y in y_pred:\n",
    "        if y < t:\n",
    "            y_pred_thresh.append(0)\n",
    "        else:\n",
    "            y_pred_thresh.append(1)\n",
    "\n",
    "    for y in zip(y_pred_thresh, y_test):\n",
    "        if y[1] == 1 and y[0] == 0:\n",
    "            fp+=1\n",
    "        if y[1] == 0 and y[0] == 1:\n",
    "            fa+=1\n",
    "    fp_r.append(100*(fp*1.0)/ones)\n",
    "    fa_r.append(100*(fa*1.0)/zeros)\n",
    "    fp = 0\n",
    "    fa = 0\n",
    "    y_pred_thresh = []\n",
    "    "
   ]
  },
  {
   "cell_type": "code",
   "execution_count": 18,
   "metadata": {
    "collapsed": false,
    "deletable": true,
    "editable": true
   },
   "outputs": [
    {
     "data": {
      "image/png": "[encoded data removed]",
      "text/plain": [
       "<matplotlib.figure.Figure at 0x7f7a3ba15e50>"
      ]
     },
     "metadata": {},
     "output_type": "display_data"
    },
    {
     "name": "stdout",
     "output_type": "stream",
     "text": [
      "EER - 10.9736484481\n"
     ]
    }
   ],
   "source": [
    "import matplotlib.pyplot as plt\n",
    "plt.plot(thresholds, fp_r, label=u'fr_r -  когда пара векторов принадлежит одному человеку, а алгоритм ошибочно относит их к разным')\n",
    "plt.plot(thresholds, fa_r, label=u'fa_r - когда пара векторов принадлежит разным людям, а алгоритм ошибочно относит их к одному')\n",
    "plt.legend(bbox_to_anchor=(1.05, 1), loc=2, borderaxespad=0.)\n",
    "plt.show()\n",
    "\n",
    "from shapely.geometry import LineString\n",
    "\n",
    "line1 = LineString(zip(thresholds, fp_r))\n",
    "line2 = LineString(zip(thresholds, fa_r))\n",
    "\n",
    "print('EER - {}'.format(line1.intersection(line2).y))"
   ]
  },
  {
   "cell_type": "code",
   "execution_count": 19,
   "metadata": {
    "collapsed": false,
    "deletable": true,
    "editable": true
   },
   "outputs": [
    {
     "data": {
      "text/plain": [
       "0.78673715026409308"
      ]
     },
     "execution_count": 19,
     "metadata": {},
     "output_type": "execute_result"
    }
   ],
   "source": [
    "from sklearn.metrics import accuracy_score\n",
    "\n",
    "accuracy_score(y_true=y_test, y_pred=np.around(y_pred))"
   ]
  },
  {
   "cell_type": "code",
   "execution_count": 20,
   "metadata": {
    "collapsed": false,
    "deletable": true,
    "editable": true
   },
   "outputs": [],
   "source": [
    "y_pred = np.reshape(y_pred, (y_pred.shape[0],))"
   ]
  },
  {
   "cell_type": "code",
   "execution_count": 54,
   "metadata": {
    "collapsed": false,
    "deletable": true,
    "editable": true
   },
   "outputs": [
    {
     "data": {
      "text/plain": [
       "count    907256.000000\n",
       "mean          0.230925\n",
       "std           0.311684\n",
       "min           0.000001\n",
       "25%           0.000963\n",
       "50%           0.030585\n",
       "75%           0.429803\n",
       "max           0.999058\n",
       "Name: preds, dtype: float64"
      ]
     },
     "execution_count": 54,
     "metadata": {},
     "output_type": "execute_result"
    },
    {
     "data": {
      "image/png": "[encoded data removed]",
      "text/plain": [
       "<matplotlib.figure.Figure at 0x7f7662e94e50>"
      ]
     },
     "metadata": {},
     "output_type": "display_data"
    }
   ],
   "source": [
    "df = pd.DataFrame({'preds':y_pred})\n",
    "df.preds.hist()\n",
    "df.preds.describe()"
   ]
  },
  {
   "cell_type": "code",
   "execution_count": null,
   "metadata": {
    "collapsed": true,
    "deletable": true,
    "editable": true
   },
   "outputs": [],
   "source": []
  }
 ],
 "metadata": {
  "kernelspec": {
   "display_name": "Python 2",
   "language": "python",
   "name": "python2"
  },
  "language_info": {
   "codemirror_mode": {
    "name": "ipython",
    "version": 2
   },
   "file_extension": ".py",
   "mimetype": "text/x-python",
   "name": "python",
   "nbconvert_exporter": "python",
   "pygments_lexer": "ipython2",
   "version": "2.7.12"
  }
 },
 "nbformat": 4,
 "nbformat_minor": 2
}
