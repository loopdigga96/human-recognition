{
 "cells": [
  {
   "cell_type": "code",
   "execution_count": 1,
   "metadata": {
    "collapsed": true,
    "deletable": true,
    "editable": true
   },
   "outputs": [],
   "source": [
    "from os import listdir\n",
    "import pandas as pd\n",
    "import numpy as np\n",
    "from sklearn.decomposition import PCA\n",
    "import matplotlib.pyplot as plt\n",
    "%matplotlib inline\n",
    "from tqdm import tqdm"
   ]
  },
  {
   "cell_type": "code",
   "execution_count": 2,
   "metadata": {
    "collapsed": false,
    "deletable": true,
    "editable": true
   },
   "outputs": [],
   "source": [
    "def parse_vector(s):\n",
    "    s = s.replace('[', '')\n",
    "    s = s.replace(']', '')\n",
    "    s = s.strip()\n",
    "    l = map(float, s.split(' '))\n",
    "    return l"
   ]
  },
  {
   "cell_type": "markdown",
   "metadata": {
    "deletable": true,
    "editable": true
   },
   "source": [
    "# TRAIN FILES"
   ]
  },
  {
   "cell_type": "code",
   "execution_count": 3,
   "metadata": {
    "collapsed": false,
    "deletable": true,
    "editable": true
   },
   "outputs": [
    {
     "name": "stderr",
     "output_type": "stream",
     "text": [
      "100%|██████████| 52284/52284 [03:35<00:00, 243.18it/s] \n"
     ]
    }
   ],
   "source": [
    "train_files = sorted(listdir('train_db/'))\n",
    "\n",
    "vecs = []\n",
    "person_ids = []\n",
    "\n",
    "for txt in tqdm(train_files):\n",
    "    with open('train_db/{}'.format(txt), 'r') as f:\n",
    "        content = f.read()\n",
    "        parsed = parse_vector(content)\n",
    "        person_id = txt[:4]\n",
    "    vecs.append(parsed)\n",
    "    person_ids.append(person_id)\n",
    "        \n",
    "df = pd.DataFrame({'vec':vecs, 'person_id': person_ids})\n",
    "df.to_pickle('raw_train.h5')"
   ]
  },
  {
   "cell_type": "code",
   "execution_count": 5,
   "metadata": {
    "collapsed": false
   },
   "outputs": [],
   "source": [
    "df = pd.read_pickle('raw_train.h5')"
   ]
  },
  {
   "cell_type": "code",
   "execution_count": 6,
   "metadata": {
    "collapsed": false,
    "deletable": true,
    "editable": true
   },
   "outputs": [
    {
     "name": "stdout",
     "output_type": "stream",
     "text": [
      "<class 'pandas.core.frame.DataFrame'>\n",
      "RangeIndex: 52284 entries, 0 to 52283\n",
      "Data columns (total 2 columns):\n",
      "person_id    52284 non-null object\n",
      "vec          52284 non-null object\n",
      "dtypes: object(2)\n",
      "memory usage: 817.0+ KB\n"
     ]
    }
   ],
   "source": [
    "df.info()"
   ]
  },
  {
   "cell_type": "code",
   "execution_count": 7,
   "metadata": {
    "collapsed": true,
    "deletable": true,
    "editable": true
   },
   "outputs": [],
   "source": [
    "full = pd.DataFrame({'vec1': [], 'vec2': [], 'is_duplicate': [], 'person_id1': [], 'person_id2': []})"
   ]
  },
  {
   "cell_type": "code",
   "execution_count": 8,
   "metadata": {
    "collapsed": false,
    "deletable": true,
    "editable": true
   },
   "outputs": [],
   "source": [
    "# random shuffle\n",
    "full_vec1 = []\n",
    "full_vec2 = []\n",
    "is_duplicate = []\n",
    "person_id1 = []\n",
    "person_id2 = []\n",
    "for i in range(2):\n",
    "    left = df.sample(frac=0.5, replace=False)\n",
    "    right = df.sample(frac=0.5, replace=False)\n",
    "    vec1 = left['vec'].values\n",
    "    vec2 = right['vec'].values\n",
    "    person_id1 = left['person_id'].values\n",
    "    person_id2 = right['person_id'].values\n",
    "    \n",
    "    for i in range(len(person_id1)):\n",
    "        if person_id1[i] == person_id2[i]:\n",
    "            is_duplicate.append(1)\n",
    "        else:\n",
    "            is_duplicate.append(0)\n",
    "\n",
    "    full_vec1 += list(vec1)\n",
    "    full_vec2 += list(vec2)\n",
    "\n",
    "shuffled = pd.DataFrame({'vec1': full_vec1, 'vec2': full_vec2, \n",
    "                         'is_duplicate': is_duplicate})    "
   ]
  },
  {
   "cell_type": "code",
   "execution_count": 9,
   "metadata": {
    "collapsed": false,
    "deletable": true,
    "editable": true
   },
   "outputs": [
    {
     "name": "stdout",
     "output_type": "stream",
     "text": [
      "<class 'pandas.core.frame.DataFrame'>\n",
      "RangeIndex: 52284 entries, 0 to 52283\n",
      "Data columns (total 3 columns):\n",
      "is_duplicate    52284 non-null int64\n",
      "vec1            52284 non-null object\n",
      "vec2            52284 non-null object\n",
      "dtypes: int64(1), object(2)\n",
      "memory usage: 1.2+ MB\n",
      "None\n",
      "len - 52284, 0 - 52013, 1 - 271\n"
     ]
    }
   ],
   "source": [
    "print shuffled.info()\n",
    "print 'len - {}, 0 - {}, 1 - {}'.format(len(shuffled), len(shuffled[shuffled.is_duplicate == 0]), \n",
    "                                        len(shuffled[shuffled.is_duplicate == 1]))"
   ]
  },
  {
   "cell_type": "code",
   "execution_count": null,
   "metadata": {
    "collapsed": true
   },
   "outputs": [],
   "source": [
    "shuffled.to_pickle('train_shuffled.h5')"
   ]
  },
  {
   "cell_type": "code",
   "execution_count": 10,
   "metadata": {
    "collapsed": false,
    "deletable": true,
    "editable": true
   },
   "outputs": [],
   "source": [
    "full_vec1 = []\n",
    "full_vec2 = []\n",
    "for i in df.person_id.unique():\n",
    "    one_person = df[df.person_id == i]\n",
    "    left = one_person.sample(frac=0.9, replace=True)\n",
    "    right = one_person.sample(frac=0.9, replace=True)\n",
    "    \n",
    "    vec1 = left['vec'].values\n",
    "    vec2 = right['vec'].values\n",
    "    \n",
    "    full_vec1 += list(vec1)\n",
    "    full_vec2 += list(vec2)\n",
    "\n",
    "is_duplicate = [1 for i in range(len(full_vec1))]\n",
    "duplicates = pd.DataFrame({'vec1': full_vec1, 'vec2': full_vec2, \n",
    "                           'is_duplicate': is_duplicate})  "
   ]
  },
  {
   "cell_type": "code",
   "execution_count": 11,
   "metadata": {
    "collapsed": false,
    "deletable": true,
    "editable": true
   },
   "outputs": [
    {
     "name": "stdout",
     "output_type": "stream",
     "text": [
      "<class 'pandas.core.frame.DataFrame'>\n",
      "RangeIndex: 47047 entries, 0 to 47046\n",
      "Data columns (total 3 columns):\n",
      "is_duplicate    47047 non-null int64\n",
      "vec1            47047 non-null object\n",
      "vec2            47047 non-null object\n",
      "dtypes: int64(1), object(2)\n",
      "memory usage: 1.1+ MB\n",
      "None\n",
      "len - 47047, 0 - 0, 1 - 47047\n"
     ]
    }
   ],
   "source": [
    "print duplicates.info()\n",
    "print 'len - {}, 0 - {}, 1 - {}'.format(len(duplicates), len(duplicates[duplicates.is_duplicate == 0]), \n",
    "                                        len(duplicates[duplicates.is_duplicate == 1]))"
   ]
  },
  {
   "cell_type": "code",
   "execution_count": 12,
   "metadata": {
    "collapsed": false,
    "deletable": true,
    "editable": true
   },
   "outputs": [
    {
     "name": "stdout",
     "output_type": "stream",
     "text": [
      "<class 'pandas.core.frame.DataFrame'>\n",
      "RangeIndex: 99331 entries, 0 to 99330\n",
      "Data columns (total 3 columns):\n",
      "is_duplicate    99331 non-null int64\n",
      "vec1            99331 non-null object\n",
      "vec2            99331 non-null object\n",
      "dtypes: int64(1), object(2)\n",
      "memory usage: 2.3+ MB\n",
      "None\n",
      "len - 99331, 0 - 52013, 1 - 47318\n"
     ]
    }
   ],
   "source": [
    "full = pd.concat([shuffled, duplicates], ignore_index=True)\n",
    "\n",
    "print full.info()\n",
    "print 'len - {}, 0 - {}, 1 - {}'.format(len(full), len(full[full.is_duplicate == 0]), \n",
    "                                        len(full[full.is_duplicate == 1]))"
   ]
  },
  {
   "cell_type": "code",
   "execution_count": 13,
   "metadata": {
    "collapsed": true
   },
   "outputs": [],
   "source": [
    "full.to_pickle('train_shuffled+duplicates.h5')"
   ]
  },
  {
   "cell_type": "markdown",
   "metadata": {
    "deletable": true,
    "editable": true
   },
   "source": [
    "# TEST FILES"
   ]
  },
  {
   "cell_type": "code",
   "execution_count": 84,
   "metadata": {
    "collapsed": false,
    "deletable": true,
    "editable": true
   },
   "outputs": [
    {
     "name": "stderr",
     "output_type": "stream",
     "text": [
      "\n",
      "\n",
      "  0%|          | 0/953 [00:00<?, ?it/s]\u001b[A\u001b[A\n",
      "\n",
      "100%|██████████| 953/953 [00:00<00:00, 11893.34it/s]\u001b[A\u001b[A"
     ]
    }
   ],
   "source": [
    "test_files = sorted(listdir('test_db/'))\n",
    "\n",
    "vecs = []\n",
    "person_ids = []\n",
    "\n",
    "for txt in tqdm(test_files):\n",
    "    with open('test_db/{}'.format(txt), 'r') as f:\n",
    "        content = f.read()\n",
    "        parsed = parse_vector(content)\n",
    "        person_id = txt[:4]\n",
    "    vecs.append(parsed)\n",
    "    person_ids.append(person_id)\n",
    "        \n",
    "df = pd.DataFrame({'vec':vecs, 'person_id': person_ids})"
   ]
  },
  {
   "cell_type": "code",
   "execution_count": 85,
   "metadata": {
    "collapsed": false,
    "deletable": true,
    "editable": true
   },
   "outputs": [
    {
     "name": "stdout",
     "output_type": "stream",
     "text": [
      "<class 'pandas.core.frame.DataFrame'>\n",
      "RangeIndex: 953 entries, 0 to 952\n",
      "Data columns (total 2 columns):\n",
      "person_id    953 non-null object\n",
      "vec          953 non-null object\n",
      "dtypes: object(2)\n",
      "memory usage: 15.0+ KB\n"
     ]
    }
   ],
   "source": [
    "df.to_pickle('raw_test.h5')\n",
    "df.info()"
   ]
  },
  {
   "cell_type": "code",
   "execution_count": 86,
   "metadata": {
    "collapsed": false,
    "deletable": true,
    "editable": true
   },
   "outputs": [
    {
     "name": "stderr",
     "output_type": "stream",
     "text": [
      "\n",
      "\n",
      "  0%|          | 0/953 [00:00<?, ?it/s]\u001b[A\u001b[A\n",
      "\n",
      " 14%|█▎        | 131/953 [00:00<00:00, 1304.40it/s]\u001b[A\u001b[A\n",
      "\n",
      " 27%|██▋       | 258/953 [00:00<00:00, 1289.43it/s]\u001b[A\u001b[A\n",
      "\n",
      " 41%|████      | 392/953 [00:00<00:00, 1301.69it/s]\u001b[A\u001b[A\n",
      "\n",
      " 55%|█████▌    | 528/953 [00:00<00:00, 1314.15it/s]\u001b[A\u001b[A\n",
      "\n",
      " 69%|██████▉   | 659/953 [00:00<00:00, 1309.71it/s]\u001b[A\u001b[A\n",
      "\n",
      " 83%|████████▎ | 791/953 [00:00<00:00, 1312.00it/s]\u001b[A\u001b[A\n",
      "\n",
      " 97%|█████████▋| 920/953 [00:00<00:00, 1301.52it/s]\u001b[A\u001b[A\n",
      "\n",
      "100%|██████████| 953/953 [00:00<00:00, 1297.11it/s]\u001b[A\u001b[A"
     ]
    }
   ],
   "source": [
    "vec1 = []\n",
    "vec2 = []\n",
    "is_duplicate = []\n",
    "\n",
    "for i in tqdm(range(len(df))):\n",
    "    current_vec = df.vec[i]\n",
    "    current_person = df.person_id[i]\n",
    "    \n",
    "    exception = df.index.isin([i])\n",
    "    sample = df[~exception]\n",
    "    vecs = sample['vec'].values\n",
    "    persons = sample['person_id'].values\n",
    "    \n",
    "    for person in zip(persons, vecs):\n",
    "        vec1.append(current_vec)\n",
    "        vec2.append(person[1])\n",
    "        if person[0] == current_person:\n",
    "            is_duplicate.append(1)\n",
    "        else:\n",
    "            is_duplicate.append(0)\n",
    "            \n",
    "\n",
    "test_df = pd.DataFrame({'vec1':vec1, 'vec2': vec2, 'is_duplicate': is_duplicate})"
   ]
  },
  {
   "cell_type": "code",
   "execution_count": null,
   "metadata": {
    "collapsed": false,
    "deletable": true,
    "editable": true
   },
   "outputs": [
    {
     "name": "stdout",
     "output_type": "stream",
     "text": [
      "<class 'pandas.core.frame.DataFrame'>\n",
      "RangeIndex: 907256 entries, 0 to 907255\n",
      "Data columns (total 3 columns):\n",
      "is_duplicate    907256 non-null int64\n",
      "vec1            907256 non-null object\n",
      "vec2            907256 non-null object\n",
      "dtypes: int64(1), object(2)\n",
      "memory usage: 20.8+ MB\n",
      "None\n",
      "len - 907256, 0 - 899640, 1 - 7616\n"
     ]
    }
   ],
   "source": [
    "print test_df.info()\n",
    "print 'len - {}, 0 - {}, 1 - {}'.format(len(test_df), len(test_df[test_df.is_duplicate == 0]), \n",
    "                                        len(test_df[test_df.is_duplicate == 1]))\n",
    "test_df.to_pickle('test.h5')"
   ]
  },
  {
   "cell_type": "code",
   "execution_count": null,
   "metadata": {
    "collapsed": true,
    "deletable": true,
    "editable": true
   },
   "outputs": [],
   "source": []
  }
 ],
 "metadata": {
  "kernelspec": {
   "display_name": "Python 2",
   "language": "python",
   "name": "python2"
  },
  "language_info": {
   "codemirror_mode": {
    "name": "ipython",
    "version": 2
   },
   "file_extension": ".py",
   "mimetype": "text/x-python",
   "name": "python",
   "nbconvert_exporter": "python",
   "pygments_lexer": "ipython2",
   "version": "2.7.12"
  }
 },
 "nbformat": 4,
 "nbformat_minor": 2
}
